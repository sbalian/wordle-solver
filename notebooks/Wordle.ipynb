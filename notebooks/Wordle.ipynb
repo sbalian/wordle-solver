{
 "cells": [
  {
   "cell_type": "markdown",
   "id": "ecf6fa9b",
   "metadata": {},
   "source": [
    "# Wordle"
   ]
  },
  {
   "cell_type": "code",
   "execution_count": null,
   "id": "be044c8c",
   "metadata": {},
   "outputs": [],
   "source": [
    "import jupyter_black\n",
    "\n",
    "import pathlib\n",
    "import string\n",
    "from typing import Optional, TypedDict\n",
    "\n",
    "jupyter_black.load(lab=False, line_length=79)"
   ]
  },
  {
   "cell_type": "markdown",
   "id": "fc088169",
   "metadata": {},
   "source": [
    "## Build the lookup tables"
   ]
  },
  {
   "cell_type": "markdown",
   "id": "70f0668c",
   "metadata": {},
   "source": [
    "Read possible guesses (from https://gist.github.com/cfreshman)."
   ]
  },
  {
   "cell_type": "code",
   "execution_count": null,
   "id": "f03ea81e",
   "metadata": {},
   "outputs": [],
   "source": [
    "words = pathlib.Path(\"data/wordle-nyt-words-14855.txt\").read_text().split()\n",
    "assert all(len(word) == 5 for word in words)\n",
    "assert len(set(words)) == len(words)\n",
    "assert all(word.islower() for word in words)"
   ]
  },
  {
   "cell_type": "markdown",
   "id": "62c9c46e",
   "metadata": {},
   "source": [
    "Iterate over words and populate lookups"
   ]
  },
  {
   "cell_type": "code",
   "execution_count": null,
   "id": "bed974c0",
   "metadata": {},
   "outputs": [],
   "source": [
    "contains: dict[str, set[str]] = {}\n",
    "does_not_contain: dict[str, set[str]] = {}\n",
    "contains_at: dict[tuple[str, int], set[str]] = {}\n",
    "\n",
    "for letter in string.ascii_lowercase:\n",
    "    contains[letter] = set()\n",
    "    does_not_contain[letter] = set()\n",
    "    for position in range(5):\n",
    "        contains_at[(letter, position)] = set()\n",
    "\n",
    "alphabet = set(string.ascii_lowercase)\n",
    "\n",
    "for word in words:\n",
    "    for position, letter in enumerate(word):\n",
    "        contains[letter].add(word)\n",
    "        contains_at[(letter, position)].add(word)\n",
    "    for letter in alphabet - set(word):\n",
    "        does_not_contain[letter].add(word)\n",
    "\n",
    "contains_not_at: dict[tuple[str, int], set[str]] = {}\n",
    "\n",
    "for letter in string.ascii_lowercase:\n",
    "    for position in range(5):\n",
    "        contains_not_at[(letter, position)] = (\n",
    "            contains[letter] - contains_at[(letter, position)]\n",
    "        )\n",
    "\n",
    "for lookup in [contains, does_not_contain, contains_at, contains_not_at]:\n",
    "    assert set.union(*(lookup.values())) == set(words)"
   ]
  },
  {
   "cell_type": "code",
   "execution_count": null,
   "id": "b5491147",
   "metadata": {},
   "outputs": [],
   "source": [
    "class Lookup(TypedDict):\n",
    "    contains_at: dict[tuple[str, int], set[str]]\n",
    "    does_not_contain: dict[str, set[str]]\n",
    "    contains_not_at: dict[tuple[str, int], set[str]]\n",
    "\n",
    "\n",
    "lookup: Lookup = {\n",
    "    \"contains_at\": contains_at,\n",
    "    \"does_not_contain\": does_not_contain,\n",
    "    \"contains_not_at\": contains_not_at,\n",
    "}"
   ]
  },
  {
   "cell_type": "markdown",
   "id": "c1f5bb8d",
   "metadata": {},
   "source": [
    "Function to return candidate solutions given a hint"
   ]
  },
  {
   "cell_type": "code",
   "execution_count": null,
   "id": "328ed8f2",
   "metadata": {},
   "outputs": [],
   "source": [
    "def candidates(\n",
    "    hint: str,\n",
    "    incorrect_positions: Optional[set[int]] = None,\n",
    "    lookup: Lookup = lookup,\n",
    ") -> set[str]:\n",
    "    \"\"\"Return possible Wordle solutions given a hint.\n",
    "\n",
    "    hint is a 5-letter word specification. Use uppercase letters\n",
    "    to indicate letters in the correct position (green) and\n",
    "    lowercase letters to indicate letters that are either in the\n",
    "    incorrect position (orange) or do not exist in the word\n",
    "    (dark grey). Use incorrect_positions to indicate the indices\n",
    "    in the hint for the letters that exist in the word but are\n",
    "    incorrectly positioned (i.e., color letters orange using\n",
    "    these indices).\n",
    "\n",
    "    For example, hint = 'Tseta' and incorrect_positions = set([1, 3])\n",
    "    specify that the word starts with a T, contains s and another\n",
    "    t but in incorrect positions and does not contain an a.\n",
    "    \"\"\"\n",
    "\n",
    "    if incorrect_positions is None:\n",
    "        incorrect_positions = set()\n",
    "\n",
    "    if len(hint) != 5:\n",
    "        raise ValueError(f\"hint {hint} must be of length 5\")\n",
    "    if len(incorrect_positions) > 5:\n",
    "        raise ValueError(\n",
    "            f\"length of incorrect_positions {incorrect_positions} must \"\n",
    "            \"be at most 5\"\n",
    "        )\n",
    "    for incorrect_position in incorrect_positions:\n",
    "        if not (0 <= incorrect_position < 5):\n",
    "            raise ValueError(\n",
    "                f\"incorrect position {incorrect_position} out of bounds\"\n",
    "            )\n",
    "\n",
    "    word_sets = []\n",
    "    for position, letter in enumerate(hint):\n",
    "        if letter.isupper():\n",
    "            if position in incorrect_positions:\n",
    "                raise ValueError(\n",
    "                    \"cannot have overlap between correct \"\n",
    "                    \"letters and incorrect_positions\"\n",
    "                )\n",
    "            word_sets.append(lookup[\"contains_at\"][(letter.lower(), position)])\n",
    "        elif position in incorrect_positions:\n",
    "            word_sets.append(lookup[\"contains_not_at\"][(letter, position)])\n",
    "        else:\n",
    "            word_sets.append(lookup[\"does_not_contain\"][letter])\n",
    "    return set.intersection(*word_sets)"
   ]
  },
  {
   "cell_type": "code",
   "execution_count": null,
   "id": "9d12c659",
   "metadata": {},
   "outputs": [],
   "source": [
    "assert candidates(\"HELPS\") == set([\"helps\"])"
   ]
  },
  {
   "cell_type": "code",
   "execution_count": null,
   "id": "80359d0c",
   "metadata": {},
   "outputs": [],
   "source": [
    "assert candidates(\"HEplS\", incorrect_positions=[2, 3]) == set([\"helps\"])"
   ]
  },
  {
   "cell_type": "code",
   "execution_count": null,
   "id": "b7a9b2eb",
   "metadata": {},
   "outputs": [],
   "source": [
    "candidates(\"praps\", incorrect_positions=[0, 1, 2, 3, 4])"
   ]
  }
 ],
 "metadata": {
  "kernelspec": {
   "display_name": "Python 3 (ipykernel)",
   "language": "python",
   "name": "python3"
  },
  "language_info": {
   "codemirror_mode": {
    "name": "ipython",
    "version": 3
   },
   "file_extension": ".py",
   "mimetype": "text/x-python",
   "name": "python",
   "nbconvert_exporter": "python",
   "pygments_lexer": "ipython3",
   "version": "3.10.6"
  }
 },
 "nbformat": 4,
 "nbformat_minor": 5
}
