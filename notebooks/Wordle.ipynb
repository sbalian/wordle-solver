{
 "cells": [
  {
   "cell_type": "markdown",
   "id": "ecf6fa9b",
   "metadata": {},
   "source": [
    "# Wordle"
   ]
  },
  {
   "cell_type": "code",
   "execution_count": null,
   "id": "be044c8c",
   "metadata": {},
   "outputs": [],
   "source": [
    "import collections\n",
    "import copy\n",
    "import pathlib\n",
    "import random\n",
    "import string\n",
    "from typing import Optional, TypedDict\n",
    "\n",
    "import jupyter_black\n",
    "import pandas as pd\n",
    "\n",
    "jupyter_black.load(lab=False, line_length=79)"
   ]
  },
  {
   "cell_type": "markdown",
   "id": "fc088169",
   "metadata": {},
   "source": [
    "## Build the lookup tables"
   ]
  },
  {
   "cell_type": "markdown",
   "id": "70f0668c",
   "metadata": {},
   "source": [
    "Read possible guesses (from https://gist.github.com/cfreshman)."
   ]
  },
  {
   "cell_type": "code",
   "execution_count": null,
   "id": "f03ea81e",
   "metadata": {},
   "outputs": [],
   "source": [
    "words = pathlib.Path(\"data/wordle-nyt-words-14855.txt\").read_text().split()\n",
    "assert all(len(word) == 5 for word in words)\n",
    "assert len(set(words)) == len(words)\n",
    "assert all(word.islower() for word in words)"
   ]
  },
  {
   "cell_type": "markdown",
   "id": "62c9c46e",
   "metadata": {},
   "source": [
    "Iterate over words and populate lookups"
   ]
  },
  {
   "cell_type": "code",
   "execution_count": null,
   "id": "bed974c0",
   "metadata": {},
   "outputs": [],
   "source": [
    "contains: dict[str, set[str]] = collections.defaultdict(lambda: set())\n",
    "does_not_contain: dict[str, set[str]] = collections.defaultdict(lambda: set())\n",
    "contains_at: dict[tuple[str, int], set[str]] = collections.defaultdict(\n",
    "    lambda: set()\n",
    ")\n",
    "\n",
    "alphabet = set(string.ascii_lowercase)\n",
    "\n",
    "for word in words:\n",
    "    for position, letter in enumerate(word):\n",
    "        contains[letter].add(word)\n",
    "        contains_at[(letter, position)].add(word)\n",
    "    for letter in alphabet - set(word):\n",
    "        does_not_contain[letter].add(word)\n",
    "\n",
    "contains_not_at: dict[tuple[str, int], set[str]] = {}\n",
    "\n",
    "for letter in string.ascii_lowercase:\n",
    "    for position in range(5):\n",
    "        contains_not_at[(letter, position)] = (\n",
    "            contains[letter] - contains_at[(letter, position)]\n",
    "        )\n",
    "\n",
    "for lookup in [contains, does_not_contain, contains_at, contains_not_at]:\n",
    "    assert set.union(*(lookup.values())) == set(words)"
   ]
  },
  {
   "cell_type": "code",
   "execution_count": null,
   "id": "b5491147",
   "metadata": {},
   "outputs": [],
   "source": [
    "class Lookup(TypedDict):\n",
    "    contains_at: dict[tuple[str, int], set[str]]\n",
    "    does_not_contain: dict[str, set[str]]\n",
    "    contains_not_at: dict[tuple[str, int], set[str]]\n",
    "\n",
    "\n",
    "lookup: Lookup = {\n",
    "    \"contains_at\": contains_at,\n",
    "    \"does_not_contain\": does_not_contain,\n",
    "    \"contains_not_at\": contains_not_at,\n",
    "}"
   ]
  },
  {
   "cell_type": "markdown",
   "id": "ab617409",
   "metadata": {},
   "source": [
    "## Play"
   ]
  },
  {
   "cell_type": "markdown",
   "id": "c1f5bb8d",
   "metadata": {},
   "source": [
    "Function to return candidate solutions given a hint"
   ]
  },
  {
   "cell_type": "code",
   "execution_count": null,
   "id": "328ed8f2",
   "metadata": {},
   "outputs": [],
   "source": [
    "def find_candidates(\n",
    "    hint: str,\n",
    "    incorrect_positions: Optional[set[int]] = None,\n",
    "    lookup: Lookup = lookup,\n",
    ") -> set[str]:\n",
    "    \"\"\"Return possible Wordle solutions given a hint.\n",
    "\n",
    "    hint is a 5-letter word specification. Use uppercase letters\n",
    "    to indicate letters in the correct position (green) and\n",
    "    lowercase letters to indicate letters that are either in the\n",
    "    incorrect position (orange) or do not exist in the word\n",
    "    (dark grey). Use incorrect_positions to indicate the indices\n",
    "    in the hint for the letters that exist in the word but are\n",
    "    incorrectly positioned (i.e., color letters orange using\n",
    "    these indices).\n",
    "\n",
    "    For example, hint = 'Tseta' and incorrect_positions = set([1, 3])\n",
    "    specify that the word starts with a T, contains s and another\n",
    "    t but in incorrect positions and does not contain an a.\n",
    "    \"\"\"\n",
    "\n",
    "    if incorrect_positions is None:\n",
    "        incorrect_positions = set()\n",
    "\n",
    "    if len(hint) != 5:\n",
    "        raise ValueError(f\"hint: {hint} must be of length 5\")\n",
    "    if len(incorrect_positions) > 5:\n",
    "        raise ValueError(\"length of incorrect_positions must be at most 5\")\n",
    "    for incorrect_position in incorrect_positions:\n",
    "        if not (0 <= incorrect_position < 5):\n",
    "            raise ValueError(\n",
    "                f\"incorrect position {incorrect_position} out of bounds\"\n",
    "            )\n",
    "\n",
    "    word_sets = []\n",
    "    letters_in_incorrect_positions = set(\n",
    "        [hint[position] for position in incorrect_positions]\n",
    "    )\n",
    "    letters_in_correct_positions = set(\n",
    "        [\n",
    "            hint[position].lower()\n",
    "            for position, letter in enumerate(hint)\n",
    "            if letter.isupper()\n",
    "        ]\n",
    "    )\n",
    "    for position, letter in enumerate(hint):\n",
    "        upper_letter = letter.isupper()\n",
    "        position_in_incorrect_positions = position in incorrect_positions\n",
    "        if upper_letter and position_in_incorrect_positions:\n",
    "            raise ValueError(\n",
    "                \"correct letter (upper) position cannot be in incorrect_positions\"\n",
    "            )\n",
    "        elif upper_letter:\n",
    "            word_sets.append(lookup[\"contains_at\"][(letter.lower(), position)])\n",
    "        elif position_in_incorrect_positions:\n",
    "            word_sets.append(lookup[\"contains_not_at\"][(letter, position)])\n",
    "        elif letter not in letters_in_incorrect_positions.union(\n",
    "            letters_in_correct_positions\n",
    "        ):\n",
    "            word_sets.append(lookup[\"does_not_contain\"][letter])\n",
    "\n",
    "    if len(incorrect_positions) == 5:\n",
    "        for letter in alphabet - set(hint.lower()):\n",
    "            word_sets.append(lookup[\"does_not_contain\"][letter])\n",
    "    return set.intersection(*word_sets)\n",
    "\n",
    "\n",
    "assert find_candidates(\"HELPS\") == set([\"helps\"])\n",
    "assert find_candidates(\"AWAek\", incorrect_positions=[3, 4]) == set([\"awake\"])\n",
    "assert find_candidates(\"HEplS\", incorrect_positions=set([2, 3])) == set(\n",
    "    [\"helps\"]\n",
    ")\n",
    "assert find_candidates(\"Gohts\", incorrect_positions=set([1, 2, 3, 4])) == set(\n",
    "    [\"ghost\"]\n",
    ")\n",
    "assert find_candidates(\"pPael\", incorrect_positions=set([0, 2, 3, 4])) == set(\n",
    "    [\"apple\"]\n",
    ")\n",
    "assert find_candidates(\n",
    "    \"elapp\", incorrect_positions=set([0, 1, 2, 3, 4])\n",
    ") == set([\"appel\", \"apple\", \"lapel\", \"palea\", \"pepla\"])\n",
    "assert find_candidates(\"praps\", incorrect_positions=[0, 1, 2, 3, 4]) == set([])\n",
    "assert find_candidates(\"hsARE\", incorrect_positions=[0, 1]) == set([\"share\"])\n",
    "assert find_candidates(\"APPLc\") == set([\"apple\", \"apply\"])\n",
    "assert find_candidates(\"AddLE\") == set(\n",
    "    [\n",
    "        \"abele\",\n",
    "        \"agile\",\n",
    "        \"ahole\",\n",
    "        \"aisle\",\n",
    "        \"aizle\",\n",
    "        \"amble\",\n",
    "        \"amole\",\n",
    "        \"ample\",\n",
    "        \"ancle\",\n",
    "        \"anele\",\n",
    "        \"angle\",\n",
    "        \"anile\",\n",
    "        \"ankle\",\n",
    "        \"anole\",\n",
    "        \"apple\",\n",
    "        \"argle\",\n",
    "        \"avale\",\n",
    "        \"axile\",\n",
    "        \"azole\",\n",
    "    ]\n",
    ")\n",
    "assert find_candidates(\"ApsiS\", set([1])) == set(\n",
    "    [\"aapas\", \"alaps\", \"arpas\", \"ataps\"]\n",
    ")"
   ]
  },
  {
   "cell_type": "markdown",
   "id": "b10be954",
   "metadata": {},
   "source": [
    "Function to return a hint given an answer and a guess"
   ]
  },
  {
   "cell_type": "code",
   "execution_count": null,
   "id": "80359d0c",
   "metadata": {},
   "outputs": [],
   "source": [
    "def give_hint(guess: str, answer: str) -> tuple[str, set[int]]:\n",
    "    \"\"\"Get a hint and incorrect letter positions for a guess and answer.\"\"\"\n",
    "\n",
    "    guess = guess.lower()\n",
    "    answer = answer.lower()\n",
    "\n",
    "    if len(guess) != 5:\n",
    "        raise ValueError(f\"guess must be of length 5\")\n",
    "    if len(answer) != 5:\n",
    "        raise ValueError(f\"answer must be of length 5\")\n",
    "    if not guess.isalpha():\n",
    "        raise ValueError(\"guess must be alphabetic\")\n",
    "    if not answer.isalpha():\n",
    "        raise ValueError(\"answer must be alphabetic\")\n",
    "\n",
    "    answer_positions = list(range(5))\n",
    "    correct_positions = set([])\n",
    "    incorrect_positions = set([])\n",
    "\n",
    "    for guess_position, guess_letter in enumerate(guess):\n",
    "        if answer[guess_position] == guess_letter:\n",
    "            answer_positions.remove(guess_position)\n",
    "            correct_positions.add(guess_position)\n",
    "\n",
    "    for guess_position, guess_letter in enumerate(guess):\n",
    "        if guess_position in correct_positions:\n",
    "            continue\n",
    "        found_orange = False\n",
    "        for answer_position in answer_positions:\n",
    "            if answer[answer_position] == guess_letter:\n",
    "                found_orange = True\n",
    "                break\n",
    "        if found_orange:\n",
    "            incorrect_positions.add(guess_position)\n",
    "            answer_positions.remove(answer_position)\n",
    "\n",
    "    hint = \"\"\n",
    "    for i in range(5):\n",
    "        if i in correct_positions:\n",
    "            hint += guess[i].upper()\n",
    "        else:\n",
    "            hint += guess[i]\n",
    "    return hint, incorrect_positions\n",
    "\n",
    "\n",
    "assert give_hint(\"speak\", \"stays\") == (\"Speak\", set([3]))\n",
    "assert give_hint(\"speak\", \"speak\") == (\"SPEAK\", set([]))\n",
    "assert give_hint(\"leapp\", \"apple\") == (\"leapp\", set([0, 1, 2, 3, 4]))\n",
    "assert give_hint(\"eplap\", \"apple\") == (\"ePlap\", set([0, 2, 3, 4]))"
   ]
  },
  {
   "cell_type": "markdown",
   "id": "e145962a",
   "metadata": {},
   "source": [
    "Function to play a game and return the number of guesses to a solution"
   ]
  },
  {
   "cell_type": "code",
   "execution_count": null,
   "id": "acadb0fe",
   "metadata": {},
   "outputs": [],
   "source": [
    "def game(\n",
    "    answer: str,\n",
    "    words: set[str] = set(words),\n",
    "    lookup: Lookup = lookup,\n",
    "    seed: Optional[int] = 42,\n",
    ") -> int:\n",
    "    random.seed(seed)\n",
    "    possible_answers = set([])\n",
    "    num_guesses = 0\n",
    "    candidates = copy.copy(words)\n",
    "    hint = \"\"\n",
    "    while hint.lower() != answer:\n",
    "        guess = random.choice(list(candidates))\n",
    "        num_guesses += 1\n",
    "        hint, incorrect_positions = give_hint(guess, answer)\n",
    "        candidates.remove(guess)\n",
    "        candidates.intersection_update(\n",
    "            find_candidates(hint, incorrect_positions, lookup=lookup)\n",
    "        )\n",
    "    return num_guesses"
   ]
  },
  {
   "cell_type": "markdown",
   "id": "8928934f",
   "metadata": {},
   "source": [
    "Play all Wordles"
   ]
  },
  {
   "cell_type": "code",
   "execution_count": null,
   "id": "81a79442",
   "metadata": {},
   "outputs": [],
   "source": [
    "%%time\n",
    "# takes about 30 seconds\n",
    "guesses = []\n",
    "for word in words:\n",
    "    guesses.append(game(word))\n",
    "# not reproducible even with seed, possibly because\n",
    "# of the ordering in the sets changing between runs"
   ]
  },
  {
   "cell_type": "markdown",
   "id": "fc9c309a",
   "metadata": {},
   "source": [
    "## Analyse"
   ]
  },
  {
   "cell_type": "markdown",
   "id": "be00205d",
   "metadata": {},
   "source": [
    "Average guesses to win"
   ]
  },
  {
   "cell_type": "code",
   "execution_count": null,
   "id": "dd1b5060",
   "metadata": {},
   "outputs": [],
   "source": [
    "s = pd.Series(guesses)\n",
    "s.mean()"
   ]
  },
  {
   "cell_type": "markdown",
   "id": "d52c8ebe",
   "metadata": {},
   "source": [
    "Percentage of games won ($\\leq$ 5 guesses)"
   ]
  },
  {
   "cell_type": "code",
   "execution_count": null,
   "id": "cbde1b35",
   "metadata": {},
   "outputs": [],
   "source": [
    "sum(s < 6) / len(s) * 100"
   ]
  },
  {
   "cell_type": "code",
   "execution_count": null,
   "id": "9478539d",
   "metadata": {},
   "outputs": [],
   "source": [
    "s.hist();"
   ]
  }
 ],
 "metadata": {
  "kernelspec": {
   "display_name": "Python 3 (ipykernel)",
   "language": "python",
   "name": "python3"
  },
  "language_info": {
   "codemirror_mode": {
    "name": "ipython",
    "version": 3
   },
   "file_extension": ".py",
   "mimetype": "text/x-python",
   "name": "python",
   "nbconvert_exporter": "python",
   "pygments_lexer": "ipython3",
   "version": "3.10.6"
  }
 },
 "nbformat": 4,
 "nbformat_minor": 5
}
